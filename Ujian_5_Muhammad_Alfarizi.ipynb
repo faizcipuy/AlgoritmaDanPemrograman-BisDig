{
  "nbformat": 4,
  "nbformat_minor": 0,
  "metadata": {
    "colab": {
      "provenance": []
    },
    "kernelspec": {
      "name": "python3",
      "display_name": "Python 3"
    },
    "language_info": {
      "name": "python"
    }
  },
  "cells": [
    {
      "cell_type": "code",
      "source": [
        "# Input harga 3 barang dari pengguna\n",
        "harga1 = float(input(\"Masukkan harga barang ke-1: \"))\n",
        "harga2 = float(input(\"Masukkan harga barang ke-2: \"))\n",
        "harga3 = float(input(\"Masukkan harga barang ke-3: \"))\n",
        "\n",
        "# Proses penjumlahan total harga\n",
        "total = harga1 + harga2 + harga3\n",
        "\n",
        "# Output total pembayaran\n",
        "print(f\"Total harga pembelian adalah: Rp{total:,.2f}\")"
      ],
      "metadata": {
        "colab": {
          "base_uri": "https://localhost:8080/"
        },
        "id": "fDIr0skRGxOL",
        "outputId": "02ea012f-62ab-414b-8725-85be1ff04abc"
      },
      "execution_count": 16,
      "outputs": [
        {
          "output_type": "stream",
          "name": "stdout",
          "text": [
            "Masukkan harga barang ke-1: 58000\n",
            "Masukkan harga barang ke-2: 74000\n",
            "Masukkan harga barang ke-3: 10000\n",
            "Total harga pembelian adalah: Rp142,000.00\n"
          ]
        }
      ]
    }
  ]
}