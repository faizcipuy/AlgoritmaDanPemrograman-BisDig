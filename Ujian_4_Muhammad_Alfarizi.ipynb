{
  "nbformat": 4,
  "nbformat_minor": 0,
  "metadata": {
    "colab": {
      "provenance": []
    },
    "kernelspec": {
      "name": "python3",
      "display_name": "Python 3"
    },
    "language_info": {
      "name": "python"
    }
  },
  "cells": [
    {
      "cell_type": "code",
      "source": [
        "# Inisialisasi list kosong untuk menyimpan nilai\n",
        "nilai_siswa = []\n",
        "\n",
        "# Input nilai 5 siswa\n",
        "for i in range(5):\n",
        "    nilai = float(input(f\"Masukkan nilai siswa ke-{i+1}: \"))\n",
        "    nilai_siswa.append(nilai)\n",
        "\n",
        "# Cari nilai tertinggi dan posisi siswa\n",
        "nilai_tertinggi = max(nilai_siswa)\n",
        "index_tertinggi = nilai_siswa.index(nilai_tertinggi) + 1  # +1 untuk menyesuaikan dengan nomor siswa (mulai dari 1)\n",
        "\n",
        "# Tampilkan hasil\n",
        "print(f\"Nilai tertinggi adalah {nilai_tertinggi} dan diperoleh oleh siswa ke-{index_tertinggi}\")\n"
      ],
      "metadata": {
        "colab": {
          "base_uri": "https://localhost:8080/"
        },
        "id": "M2PMMGrmGGKk",
        "outputId": "360313cf-3efe-44b9-9d6c-47a593f700aa"
      },
      "execution_count": 15,
      "outputs": [
        {
          "output_type": "stream",
          "name": "stdout",
          "text": [
            "Masukkan nilai siswa ke-1: 88\n",
            "Masukkan nilai siswa ke-2: 67\n",
            "Masukkan nilai siswa ke-3: 90\n",
            "Masukkan nilai siswa ke-4: 99\n",
            "Masukkan nilai siswa ke-5: 81\n",
            "Nilai tertinggi adalah 99.0 dan diperoleh oleh siswa ke-4\n"
          ]
        }
      ]
    }
  ]
}