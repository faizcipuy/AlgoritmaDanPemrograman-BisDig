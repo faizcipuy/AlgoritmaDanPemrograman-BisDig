{
  "nbformat": 4,
  "nbformat_minor": 0,
  "metadata": {
    "colab": {
      "provenance": []
    },
    "kernelspec": {
      "name": "python3",
      "display_name": "Python 3"
    },
    "language_info": {
      "name": "python"
    }
  },
  "cells": [
    {
      "cell_type": "code",
      "source": [
        "def hitung_rata_rata(nilai1, nilai2, nilai3):\n",
        "    return (nilai1 + nilai2 + nilai3) / 3\n",
        "\n",
        "def cek_kelulusan(rata_rata):\n",
        "    if rata_rata >= 75:\n",
        "        return \"LULUS\"\n",
        "    else:\n",
        "        return \"TIDAK LULUS\"\n",
        "\n",
        "# Input nilai\n",
        "print(\"Masukkan nilai tiga mata pelajaran:\")\n",
        "n1 = float(input(\"Nilai 1: \"))\n",
        "n2 = float(input(\"Nilai 2: \"))\n",
        "n3 = float(input(\"Nilai 3: \"))\n",
        "\n",
        "# Proses\n",
        "rata_rata = hitung_rata_rata(n1, n2, n3)\n",
        "status = cek_kelulusan(rata_rata)\n",
        "\n",
        "# Output\n",
        "print(f\"Rata-rata: {rata_rata:.2f}\")\n",
        "print(f\"Status Kelulusan: {status}\")"
      ],
      "metadata": {
        "colab": {
          "base_uri": "https://localhost:8080/"
        },
        "id": "YAaPh1OSFWWC",
        "outputId": "220d9287-092d-4832-9b01-1c3c089592d2"
      },
      "execution_count": 13,
      "outputs": [
        {
          "output_type": "stream",
          "name": "stdout",
          "text": [
            "Masukkan nilai tiga mata pelajaran:\n",
            "Nilai 1: 90\n",
            "Nilai 2: 87\n",
            "Nilai 3: 95\n",
            "Rata-rata: 90.67\n",
            "Status Kelulusan: LULUS\n"
          ]
        }
      ]
    }
  ]
}